{
  "nbformat": 4,
  "nbformat_minor": 0,
  "metadata": {
    "colab": {
      "provenance": [],
      "gpuType": "T4",
      "authorship_tag": "ABX9TyMCTCmwvIWPepwYrwSbnYOn",
      "include_colab_link": true
    },
    "kernelspec": {
      "name": "python3",
      "display_name": "Python 3"
    },
    "language_info": {
      "name": "python"
    },
    "accelerator": "GPU"
  },
  "cells": [
    {
      "cell_type": "markdown",
      "metadata": {
        "id": "view-in-github",
        "colab_type": "text"
      },
      "source": [
        "<a href=\"https://colab.research.google.com/github/AnuBaluguri/DeepFake-Detection/blob/main/PreprocessingForVideos.ipynb\" target=\"_parent\"><img src=\"https://colab.research.google.com/assets/colab-badge.svg\" alt=\"Open In Colab\"/></a>"
      ]
    },
    {
      "cell_type": "code",
      "execution_count": null,
      "metadata": {
        "id": "gd6m1Yx9B8jY"
      },
      "outputs": [],
      "source": [
        "import os\n",
        "import cv2\n",
        "import numpy as np\n",
        "import tensorflow as tf\n",
        "from tensorflow.keras.utils import to_categorical\n",
        "from sklearn.model_selection import train_test_split\n",
        "from google.colab import drive\n"
      ]
    },
    {
      "cell_type": "code",
      "source": [
        "drive.mount('/content/drive')\n"
      ],
      "metadata": {
        "colab": {
          "base_uri": "https://localhost:8080/"
        },
        "id": "ADdlF9qICHyt",
        "outputId": "e438d682-b3cf-45f4-e806-048cfc3ab13f"
      },
      "execution_count": null,
      "outputs": [
        {
          "output_type": "stream",
          "name": "stdout",
          "text": [
            "Mounted at /content/drive\n"
          ]
        }
      ]
    },
    {
      "cell_type": "code",
      "source": [
        "# Define paths\n",
        "deepfake_videos_path = '/content/drive/MyDrive/Deepfake Detection Data/Deepfakes/videos'\n",
        "original_videos_path = '/content/drive/MyDrive/Deepfake Detection Data/Original/videos'"
      ],
      "metadata": {
        "id": "3b8sb2vhCab-"
      },
      "execution_count": null,
      "outputs": []
    },
    {
      "cell_type": "code",
      "source": [
        "# Helper function to extract frames from videos\n",
        "def extract_frames_recursive(folder_path, label, frame_limit=30, img_size=(299, 299)):\n",
        "    \"\"\"\n",
        "    Extract frames from videos in all subfolders, resize them, and normalize pixel values.\n",
        "    Args:\n",
        "        folder_path: Path to the folder containing videos and subfolders.\n",
        "        label: Class label for the video (0 for original, 1 for deepfake).\n",
        "        frame_limit: Number of frames to extract per video.\n",
        "        img_size: Target size for resizing frames (default: 299x299 for XceptionNet).\n",
        "    Returns:\n",
        "        frames: List of processed frames.\n",
        "        labels: Corresponding labels for the frames.\n",
        "    \"\"\"\n",
        "    frames = []\n",
        "    labels = []\n",
        "\n",
        "    for root, _, files in os.walk(folder_path):\n",
        "        for video_file in files:\n",
        "            if video_file.endswith(('.mp4', '.avi', '.mov', '.mkv')):  # Supported video formats\n",
        "                video_file_path = os.path.join(root, video_file)\n",
        "                cap = cv2.VideoCapture(video_file_path)\n",
        "                count = 0\n",
        "                while count < frame_limit and cap.isOpened():\n",
        "                    ret, frame = cap.read()\n",
        "                    if not ret:\n",
        "                        break\n",
        "                    frame = cv2.resize(frame, img_size)  # Resize to 299x299\n",
        "                    frame = frame / 255.0  # Normalize to [0, 1]\n",
        "                    frames.append(frame)\n",
        "                    labels.append(label)\n",
        "                    count += 1\n",
        "                cap.release()\n",
        "\n",
        "    return frames, labels\n",
        "\n"
      ],
      "metadata": {
        "id": "cn3WkALxCgzK"
      },
      "execution_count": null,
      "outputs": []
    },
    {
      "cell_type": "code",
      "source": [
        "# Extract frames from both categories\n",
        "print(\"Processing deepfake videos...\")\n",
        "deepfake_frames, deepfake_labels = extract_frames_recursive(deepfake_videos_path, label=1)\n"
      ],
      "metadata": {
        "colab": {
          "base_uri": "https://localhost:8080/"
        },
        "id": "_Hv6suLRCi9Q",
        "outputId": "73d6a6bb-f82c-4770-d144-867fa3170e9c"
      },
      "execution_count": null,
      "outputs": [
        {
          "output_type": "stream",
          "name": "stdout",
          "text": [
            "Processing deepfake videos...\n"
          ]
        }
      ]
    },
    {
      "cell_type": "code",
      "source": [
        "print(\"Processing original videos...\")\n",
        "original_frames, original_labels = extract_frames_recursive(original_videos_path, label=0)\n"
      ],
      "metadata": {
        "colab": {
          "base_uri": "https://localhost:8080/"
        },
        "id": "fHLV5rKDCrao",
        "outputId": "cd8b8545-f69d-48d5-a4e7-0b3283759907"
      },
      "execution_count": null,
      "outputs": [
        {
          "output_type": "stream",
          "name": "stdout",
          "text": [
            "Processing original videos...\n"
          ]
        }
      ]
    },
    {
      "cell_type": "code",
      "source": [
        "# Combine and shuffle data\n",
        "frames = np.array(deepfake_frames + original_frames)\n",
        "labels = np.array(deepfake_labels + original_labels)\n"
      ],
      "metadata": {
        "id": "N5MCR-3ACxXz"
      },
      "execution_count": null,
      "outputs": []
    },
    {
      "cell_type": "code",
      "source": [
        "# Convert labels to categorical\n",
        "labels = to_categorical(labels, num_classes=2)\n"
      ],
      "metadata": {
        "id": "bgHaPcFMC1-v"
      },
      "execution_count": null,
      "outputs": []
    },
    {
      "cell_type": "code",
      "source": [
        "# Split data into training and testing sets\n",
        "X_train, X_test, y_train, y_test = train_test_split(frames, labels, test_size=0.2, random_state=42)"
      ],
      "metadata": {
        "id": "rSpxRjcyC4NC"
      },
      "execution_count": null,
      "outputs": []
    },
    {
      "cell_type": "code",
      "source": [
        "# Save preprocessed data\n",
        "np.save('/content/drive/MyDrive/Deepfake Detection Data/X_train.npy', X_train)\n",
        "np.save('/content/drive/MyDrive/Deepfake Detection Data/X_test.npy', X_test)\n",
        "np.save('/content/drive/MyDrive/Deepfake Detection Data/y_train.npy', y_train)\n",
        "np.save('/content/drive/MyDrive/Deepfake Detection Data/y_test.npy', y_test)\n"
      ],
      "metadata": {
        "id": "SJhjmjPqC6jC"
      },
      "execution_count": null,
      "outputs": []
    },
    {
      "cell_type": "code",
      "source": [
        "print(\"Preprocessing complete. Data saved to Google Drive.\")\n"
      ],
      "metadata": {
        "colab": {
          "base_uri": "https://localhost:8080/"
        },
        "id": "rkt0aiGTC-zn",
        "outputId": "30489e3d-1b8f-4104-a931-19c19f8f88ca"
      },
      "execution_count": null,
      "outputs": [
        {
          "output_type": "stream",
          "name": "stdout",
          "text": [
            "Preprocessing complete. Data saved to Google Drive.\n"
          ]
        }
      ]
    },
    {
      "cell_type": "code",
      "source": [],
      "metadata": {
        "id": "bHT42MncDCmC"
      },
      "execution_count": null,
      "outputs": []
    }
  ]
}